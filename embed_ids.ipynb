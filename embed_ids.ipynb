{
 "cells": [
  {
   "cell_type": "markdown",
   "metadata": {},
   "source": [
    "# Embedding Model 만들기"
   ]
  },
  {
   "cell_type": "code",
   "execution_count": 636,
   "metadata": {
    "colab": {},
    "colab_type": "code",
    "id": "r1NmejTIFPtf",
    "tags": []
   },
   "outputs": [],
   "source": [
    "#Dependencies\n",
    "import pandas as pd\n",
    "import numpy as np\n",
    "import tensorflow as tf\n",
    "import itertools\n",
    "import matplotlib.pyplot as plt\n",
    "import time\n",
    "\n",
    "from envs import OfflineEnv\n",
    "from recommender import DRRAgent\n",
    "import csv\n",
    "import os\n",
    "\n",
    "import logging, os\n",
    "\n",
    "logging.disable(logging.WARNING)\n",
    "os.environ[\"TF_CPP_MIN_LOG_LEVEL\"] = \"3\"\n",
    "import plotly.express as px\n",
    "import tqdm\n",
    "\n",
    "\n",
    "ROOT_DIR = os.getcwd()\n",
    "DATA_DIR = os.path.join(ROOT_DIR, 'ml-1m/')\n",
    "STATE_SIZE = 10\n",
    "MAX_EPISODE_NUM = 10"
   ]
  },
  {
   "cell_type": "code",
   "execution_count": 637,
   "metadata": {},
   "outputs": [],
   "source": [
    "def custom_read_data(file_path):\n",
    "    with open(file_path, 'r', encoding='latin-1') as file:\n",
    "        # Skip the header or manage accordingly if there's no header\n",
    "        next(file)  # Uncomment this line if there's a header\n",
    "        data = []\n",
    "        for line in file:\n",
    "            parts = line.strip().split('\"')\n",
    "            if len(parts) < 5:\n",
    "                while len(parts) < 5:\n",
    "                    parts.append(\"-\")\n",
    "            # Rejoin incorrectly split parts for Title or AggregatedTags\n",
    "            id_title = parts[0].strip().split(\":\")\n",
    "            movie_id = int(id_title[0])\n",
    "            title = id_title[1]  # Assumes title is the field being split incorrectly\n",
    "            genres = parts[1]\n",
    "            year = parts[2].split(\":\")[1][:4]\n",
    "            aggregated_tags = parts[-2]\n",
    "            data.append([movie_id, title, genres, year, aggregated_tags])\n",
    "            \n",
    "    return data"
   ]
  },
  {
   "cell_type": "code",
   "execution_count": 638,
   "metadata": {
    "colab": {},
    "colab_type": "code",
    "id": "b8aPaxXpNsz7"
   },
   "outputs": [
    {
     "name": "stdout",
     "output_type": "stream",
     "text": [
      "Data loading complete!\n",
      "Data preprocessing...\n",
      "   MovieID                               Title                        Genres  \\\n",
      "0        2                      Jumanji (1995)  Adventure:Children's:Fantasy   \n",
      "1        3             Grumpier Old Men (1995)                Comedy:Romance   \n",
      "2        4            Waiting to Exhale (1995)                  Comedy:Drama   \n",
      "3        5  Father of the Bride Part II (1995)                        Comedy   \n",
      "4        6                         Heat (1995)         Action:Crime:Thriller   \n",
      "\n",
      "   Year                                     AggregatedTags  \n",
      "0  1995  29:adventure:0.9760:204:children:0.9590:377:fa...  \n",
      "1  1995  901:sequel:0.9752:451:good sequel:0.9625:902:s...  \n",
      "2  1995  1116:women:0.9752:201:chick flick:0.8990:313:d...  \n",
      "3  1995  901:sequel:0.9603:451:good sequel:0.9540:383:f...  \n",
      "4  1995  268:crime:0.9798:498:heist:0.9570:105:bank rob...  \n"
     ]
    }
   ],
   "source": [
    "#### Loading datasets\n",
    "ratings_list = [[int(x) if x.isdigit() else 0 for x in i.strip().split(\"::\")] for i in open(os.path.join(DATA_DIR, 'ratings.dat'), 'r').readlines()]\n",
    "users_list = [i.strip().split(\"::\") for i in open(os.path.join(DATA_DIR,'users.dat'), 'r').readlines()]\n",
    "# ratings_df = pd.DataFrame(ratings_list, columns = ['UserID', 'MovieID', 'Rating', 'Timestamp'], dtype = np.uint32)\n",
    "ratings_df = pd.DataFrame(ratings_list, columns=['UserID', 'MovieID', 'Rating', 'Timestamp'])\n",
    "ratings_df['UserID'] = ratings_df['UserID'].astype(np.uint32)\n",
    "ratings_df['MovieID'] = ratings_df['MovieID'].astype(np.uint32)\n",
    "ratings_df['Rating'] = ratings_df['Rating'].astype(np.uint32)\n",
    "ratings_df['Timestamp'] = ratings_df['Timestamp'].astype(np.uint32)\n",
    "movies_data = custom_read_data(os.path.join(DATA_DIR, 'merged_movies.dat'))\n",
    "movies_df = pd.DataFrame(movies_data, columns=['MovieID', 'Title', 'Genres', 'Year', 'AggregatedTags'])\n",
    "\n",
    "print(\"Data loading complete!\")\n",
    "print(\"Data preprocessing...\")\n",
    "print(movies_df.head())"
   ]
  },
  {
   "cell_type": "code",
   "execution_count": 639,
   "metadata": {
    "scrolled": true
   },
   "outputs": [],
   "source": [
    "# 영화 id를 영화 제목으로\n",
    "movies_id_to_movies = {movie[0]: movie[1:] for movie in movies_data}"
   ]
  },
  {
   "cell_type": "code",
   "execution_count": 640,
   "metadata": {},
   "outputs": [
    {
     "data": {
      "text/html": [
       "<div>\n",
       "<style scoped>\n",
       "    .dataframe tbody tr th:only-of-type {\n",
       "        vertical-align: middle;\n",
       "    }\n",
       "\n",
       "    .dataframe tbody tr th {\n",
       "        vertical-align: top;\n",
       "    }\n",
       "\n",
       "    .dataframe thead th {\n",
       "        text-align: right;\n",
       "    }\n",
       "</style>\n",
       "<table border=\"1\" class=\"dataframe\">\n",
       "  <thead>\n",
       "    <tr style=\"text-align: right;\">\n",
       "      <th></th>\n",
       "      <th>MovieID</th>\n",
       "      <th>Title</th>\n",
       "      <th>Genres</th>\n",
       "      <th>Year</th>\n",
       "      <th>AggregatedTags</th>\n",
       "    </tr>\n",
       "  </thead>\n",
       "  <tbody>\n",
       "    <tr>\n",
       "      <th>0</th>\n",
       "      <td>2</td>\n",
       "      <td>Jumanji (1995)</td>\n",
       "      <td>Adventure:Children's:Fantasy</td>\n",
       "      <td>1995</td>\n",
       "      <td>29:adventure:0.9760:204:children:0.9590:377:fa...</td>\n",
       "    </tr>\n",
       "    <tr>\n",
       "      <th>1</th>\n",
       "      <td>3</td>\n",
       "      <td>Grumpier Old Men (1995)</td>\n",
       "      <td>Comedy:Romance</td>\n",
       "      <td>1995</td>\n",
       "      <td>901:sequel:0.9752:451:good sequel:0.9625:902:s...</td>\n",
       "    </tr>\n",
       "    <tr>\n",
       "      <th>2</th>\n",
       "      <td>4</td>\n",
       "      <td>Waiting to Exhale (1995)</td>\n",
       "      <td>Comedy:Drama</td>\n",
       "      <td>1995</td>\n",
       "      <td>1116:women:0.9752:201:chick flick:0.8990:313:d...</td>\n",
       "    </tr>\n",
       "    <tr>\n",
       "      <th>3</th>\n",
       "      <td>5</td>\n",
       "      <td>Father of the Bride Part II (1995)</td>\n",
       "      <td>Comedy</td>\n",
       "      <td>1995</td>\n",
       "      <td>901:sequel:0.9603:451:good sequel:0.9540:383:f...</td>\n",
       "    </tr>\n",
       "    <tr>\n",
       "      <th>4</th>\n",
       "      <td>6</td>\n",
       "      <td>Heat (1995)</td>\n",
       "      <td>Action:Crime:Thriller</td>\n",
       "      <td>1995</td>\n",
       "      <td>268:crime:0.9798:498:heist:0.9570:105:bank rob...</td>\n",
       "    </tr>\n",
       "  </tbody>\n",
       "</table>\n",
       "</div>"
      ],
      "text/plain": [
       "   MovieID                               Title                        Genres  \\\n",
       "0        2                      Jumanji (1995)  Adventure:Children's:Fantasy   \n",
       "1        3             Grumpier Old Men (1995)                Comedy:Romance   \n",
       "2        4            Waiting to Exhale (1995)                  Comedy:Drama   \n",
       "3        5  Father of the Bride Part II (1995)                        Comedy   \n",
       "4        6                         Heat (1995)         Action:Crime:Thriller   \n",
       "\n",
       "   Year                                     AggregatedTags  \n",
       "0  1995  29:adventure:0.9760:204:children:0.9590:377:fa...  \n",
       "1  1995  901:sequel:0.9752:451:good sequel:0.9625:902:s...  \n",
       "2  1995  1116:women:0.9752:201:chick flick:0.8990:313:d...  \n",
       "3  1995  901:sequel:0.9603:451:good sequel:0.9540:383:f...  \n",
       "4  1995  268:crime:0.9798:498:heist:0.9570:105:bank rob...  "
      ]
     },
     "execution_count": 640,
     "metadata": {},
     "output_type": "execute_result"
    }
   ],
   "source": [
    "movies_df.head(5)"
   ]
  },
  {
   "cell_type": "code",
   "execution_count": 641,
   "metadata": {},
   "outputs": [
    {
     "data": {
      "text/html": [
       "<div>\n",
       "<style scoped>\n",
       "    .dataframe tbody tr th:only-of-type {\n",
       "        vertical-align: middle;\n",
       "    }\n",
       "\n",
       "    .dataframe tbody tr th {\n",
       "        vertical-align: top;\n",
       "    }\n",
       "\n",
       "    .dataframe thead th {\n",
       "        text-align: right;\n",
       "    }\n",
       "</style>\n",
       "<table border=\"1\" class=\"dataframe\">\n",
       "  <thead>\n",
       "    <tr style=\"text-align: right;\">\n",
       "      <th></th>\n",
       "      <th>UserID</th>\n",
       "      <th>MovieID</th>\n",
       "      <th>Rating</th>\n",
       "      <th>Timestamp</th>\n",
       "    </tr>\n",
       "  </thead>\n",
       "  <tbody>\n",
       "    <tr>\n",
       "      <th>0</th>\n",
       "      <td>1</td>\n",
       "      <td>1193</td>\n",
       "      <td>5</td>\n",
       "      <td>978300760</td>\n",
       "    </tr>\n",
       "    <tr>\n",
       "      <th>1</th>\n",
       "      <td>1</td>\n",
       "      <td>661</td>\n",
       "      <td>3</td>\n",
       "      <td>978302109</td>\n",
       "    </tr>\n",
       "    <tr>\n",
       "      <th>2</th>\n",
       "      <td>1</td>\n",
       "      <td>914</td>\n",
       "      <td>3</td>\n",
       "      <td>978301968</td>\n",
       "    </tr>\n",
       "    <tr>\n",
       "      <th>3</th>\n",
       "      <td>1</td>\n",
       "      <td>3408</td>\n",
       "      <td>4</td>\n",
       "      <td>978300275</td>\n",
       "    </tr>\n",
       "    <tr>\n",
       "      <th>4</th>\n",
       "      <td>1</td>\n",
       "      <td>2355</td>\n",
       "      <td>5</td>\n",
       "      <td>978824291</td>\n",
       "    </tr>\n",
       "  </tbody>\n",
       "</table>\n",
       "</div>"
      ],
      "text/plain": [
       "   UserID  MovieID  Rating  Timestamp\n",
       "0       1     1193       5  978300760\n",
       "1       1      661       3  978302109\n",
       "2       1      914       3  978301968\n",
       "3       1     3408       4  978300275\n",
       "4       1     2355       5  978824291"
      ]
     },
     "execution_count": 641,
     "metadata": {},
     "output_type": "execute_result"
    }
   ],
   "source": [
    "ratings_df.head(5)"
   ]
  },
  {
   "cell_type": "code",
   "execution_count": 642,
   "metadata": {},
   "outputs": [],
   "source": [
    "genres = ['Action',\n",
    "        'Adventure',\n",
    "        'Animation',\n",
    "        \"Children's\",\n",
    "        'Comedy',\n",
    "        'Crime',\n",
    "        'Documentary',\n",
    "        'Drama',\n",
    "        'Fantasy',\n",
    "        'Film-Noir',\n",
    "        'Horror',\n",
    "        'Musical',\n",
    "        'Mystery',\n",
    "        'Romance',\n",
    "        'Sci-Fi',\n",
    "        'Thriller',\n",
    "        'War',\n",
    "        'Western']"
   ]
  },
  {
   "cell_type": "markdown",
   "metadata": {},
   "source": [
    "영화와 장르간의 상관관계, 영화와 유저와의 상관관계를 이용해 영화, 장르, 유저의 임배딩을 만들자.\n",
    "\n",
    "영화-장르의 임배딩을 먼저 학습 후, 학습된 영화 임배딩을 이용해 영화-유저의 임배딩을 학습"
   ]
  },
  {
   "cell_type": "markdown",
   "metadata": {},
   "source": [
    "## 영화, 장르, 유저 dataframe만들기"
   ]
  },
  {
   "cell_type": "code",
   "execution_count": 643,
   "metadata": {},
   "outputs": [],
   "source": [
    "# 영화id와 genres dataframe 만들기\n",
    "movies_genres_df = movies_df[['MovieID', 'Genres', 'AggregatedTags']]"
   ]
  },
  {
   "cell_type": "code",
   "execution_count": 644,
   "metadata": {},
   "outputs": [
    {
     "data": {
      "text/html": [
       "<div>\n",
       "<style scoped>\n",
       "    .dataframe tbody tr th:only-of-type {\n",
       "        vertical-align: middle;\n",
       "    }\n",
       "\n",
       "    .dataframe tbody tr th {\n",
       "        vertical-align: top;\n",
       "    }\n",
       "\n",
       "    .dataframe thead th {\n",
       "        text-align: right;\n",
       "    }\n",
       "</style>\n",
       "<table border=\"1\" class=\"dataframe\">\n",
       "  <thead>\n",
       "    <tr style=\"text-align: right;\">\n",
       "      <th></th>\n",
       "      <th>MovieID</th>\n",
       "      <th>Genres</th>\n",
       "      <th>AggregatedTags</th>\n",
       "    </tr>\n",
       "  </thead>\n",
       "  <tbody>\n",
       "    <tr>\n",
       "      <th>0</th>\n",
       "      <td>2</td>\n",
       "      <td>Adventure:Children's:Fantasy</td>\n",
       "      <td>29:adventure:0.9760:204:children:0.9590:377:fa...</td>\n",
       "    </tr>\n",
       "    <tr>\n",
       "      <th>1</th>\n",
       "      <td>3</td>\n",
       "      <td>Comedy:Romance</td>\n",
       "      <td>901:sequel:0.9752:451:good sequel:0.9625:902:s...</td>\n",
       "    </tr>\n",
       "    <tr>\n",
       "      <th>2</th>\n",
       "      <td>4</td>\n",
       "      <td>Comedy:Drama</td>\n",
       "      <td>1116:women:0.9752:201:chick flick:0.8990:313:d...</td>\n",
       "    </tr>\n",
       "    <tr>\n",
       "      <th>3</th>\n",
       "      <td>5</td>\n",
       "      <td>Comedy</td>\n",
       "      <td>901:sequel:0.9603:451:good sequel:0.9540:383:f...</td>\n",
       "    </tr>\n",
       "    <tr>\n",
       "      <th>4</th>\n",
       "      <td>6</td>\n",
       "      <td>Action:Crime:Thriller</td>\n",
       "      <td>268:crime:0.9798:498:heist:0.9570:105:bank rob...</td>\n",
       "    </tr>\n",
       "  </tbody>\n",
       "</table>\n",
       "</div>"
      ],
      "text/plain": [
       "   MovieID                        Genres  \\\n",
       "0        2  Adventure:Children's:Fantasy   \n",
       "1        3                Comedy:Romance   \n",
       "2        4                  Comedy:Drama   \n",
       "3        5                        Comedy   \n",
       "4        6         Action:Crime:Thriller   \n",
       "\n",
       "                                      AggregatedTags  \n",
       "0  29:adventure:0.9760:204:children:0.9590:377:fa...  \n",
       "1  901:sequel:0.9752:451:good sequel:0.9625:902:s...  \n",
       "2  1116:women:0.9752:201:chick flick:0.8990:313:d...  \n",
       "3  901:sequel:0.9603:451:good sequel:0.9540:383:f...  \n",
       "4  268:crime:0.9798:498:heist:0.9570:105:bank rob...  "
      ]
     },
     "execution_count": 644,
     "metadata": {},
     "output_type": "execute_result"
    }
   ],
   "source": [
    "movies_genres_df.head(5)"
   ]
  },
  {
   "cell_type": "code",
   "execution_count": 645,
   "metadata": {},
   "outputs": [],
   "source": [
    "# 각 영화별 Gneres 분할 후 인덱싱\n",
    "def _split_and_index(string):\n",
    "    string = string.split(':')\n",
    "    for i, s in enumerate(string):\n",
    "        string[i] = genres.index(s)\n",
    "    return string\n",
    "movies_genres_df.loc[:, 'Genres'] = movies_genres_df['Genres'].map(lambda x: _split_and_index(x))"
   ]
  },
  {
   "cell_type": "code",
   "execution_count": 646,
   "metadata": {},
   "outputs": [
    {
     "name": "stdout",
     "output_type": "stream",
     "text": [
      "3877    230:comedy:0.9870:505:hilarious:0.9500:1071:ve...\n",
      "3878    329:drug abuse:0.9948:330:drug addiction:0.992...\n",
      "3879    1080:vietnam war:0.9433:127:best war films:0.9...\n",
      "3880    277:culture clash:0.9597:564:irish accent:0.90...\n",
      "3881    1119:world politics:0.9968:800:politics:0.9898...\n",
      "Name: AggregatedTags, dtype: object\n",
      "0      [29, 204, 377, 588, 951]\n",
      "1     [901, 451, 902, 230, 742]\n",
      "2    [1116, 201, 313, 439, 864]\n",
      "3     [901, 451, 383, 902, 808]\n",
      "4      [268, 498, 105, 465, 19]\n",
      "Name: AggregatedTags, dtype: object\n"
     ]
    }
   ],
   "source": [
    "# # movie tags\n",
    "def _parse_and_index_tags(tag_string):\n",
    "    # Split the aggregated tags string by '|'\n",
    "    if tag_string == \"-\":\n",
    "        return [-1]\n",
    "    tags = tag_string.split(':')\n",
    "    parsed_tags = []\n",
    "    for tag in tags[::3]:\n",
    "        if \".\" not in tag and not tag.isalpha():\n",
    "            # Each component is separated by ':', where the first part is the tag ID\n",
    "            parsed_tags.append(int(tag))\n",
    "    return parsed_tags\n",
    "movies_genres_df.loc[:, 'AggregatedTags'] = movies_genres_df['AggregatedTags'].map(lambda x: _parse_and_index_tags(x))\n",
    "all_unique_tags = set().union(*movies_genres_df['AggregatedTags'])\n",
    "# To see a few of the sets:\n",
    "print(movies_genres_df['AggregatedTags'].head())\n"
   ]
  },
  {
   "cell_type": "code",
   "execution_count": null,
   "metadata": {},
   "outputs": [],
   "source": [
    "all_unique_tags = list(all_unique_tags)"
   ]
  },
  {
   "cell_type": "code",
   "execution_count": 648,
   "metadata": {},
   "outputs": [],
   "source": [
    "def _split_tag_index(string):\n",
    "    for i, s in enumerate(string):\n",
    "        string[i] = all_unique_tags.index(s)\n",
    "    return string\n",
    "movies_genres_df.loc[:, 'AggregatedTags'] = movies_genres_df['AggregatedTags'].map(lambda x: _split_tag_index(x))"
   ]
  },
  {
   "cell_type": "code",
   "execution_count": 649,
   "metadata": {},
   "outputs": [
    {
     "data": {
      "text/plain": [
       "0        [26, 177, 319, 501, 819]\n",
       "1       [774, 385, 775, 199, 634]\n",
       "2       [959, 174, 270, 376, 741]\n",
       "3       [774, 385, 325, 775, 690]\n",
       "4         [228, 422, 88, 396, 16]\n",
       "                  ...            \n",
       "3877    [199, 426, 921, 354, 355]\n",
       "3878     [282, 283, 22, 284, 642]\n",
       "3879    [927, 109, 560, 942, 471]\n",
       "3880    [236, 481, 480, 896, 527]\n",
       "3881    [962, 683, 681, 693, 682]\n",
       "Name: AggregatedTags, Length: 3882, dtype: object"
      ]
     },
     "execution_count": 649,
     "metadata": {},
     "output_type": "execute_result"
    }
   ],
   "source": [
    "movies_genres_df['AggregatedTags']"
   ]
  },
  {
   "cell_type": "code",
   "execution_count": 651,
   "metadata": {},
   "outputs": [
    {
     "name": "stdout",
     "output_type": "stream",
     "text": [
      "Number of unique tag IDs: 972\n"
     ]
    }
   ],
   "source": [
    "exploded_tag_ids = movies_genres_df['AggregatedTags'].explode()\n",
    "\n",
    "# Step 2: Use pd.unique to find unique tag IDs\n",
    "unique_tag_ids = pd.unique(exploded_tag_ids)\n",
    "\n",
    "# Print the number of unique tag IDs\n",
    "print(f\"Number of unique tag IDs: {len(unique_tag_ids)}\")\n",
    "tags = max(unique_tag_ids)"
   ]
  },
  {
   "cell_type": "code",
   "execution_count": 652,
   "metadata": {},
   "outputs": [
    {
     "data": {
      "text/html": [
       "<div>\n",
       "<style scoped>\n",
       "    .dataframe tbody tr th:only-of-type {\n",
       "        vertical-align: middle;\n",
       "    }\n",
       "\n",
       "    .dataframe tbody tr th {\n",
       "        vertical-align: top;\n",
       "    }\n",
       "\n",
       "    .dataframe thead th {\n",
       "        text-align: right;\n",
       "    }\n",
       "</style>\n",
       "<table border=\"1\" class=\"dataframe\">\n",
       "  <thead>\n",
       "    <tr style=\"text-align: right;\">\n",
       "      <th></th>\n",
       "      <th>MovieID</th>\n",
       "      <th>Genres</th>\n",
       "      <th>AggregatedTags</th>\n",
       "    </tr>\n",
       "  </thead>\n",
       "  <tbody>\n",
       "    <tr>\n",
       "      <th>0</th>\n",
       "      <td>2</td>\n",
       "      <td>[1, 3, 8]</td>\n",
       "      <td>[26, 177, 319, 501, 819]</td>\n",
       "    </tr>\n",
       "    <tr>\n",
       "      <th>1</th>\n",
       "      <td>3</td>\n",
       "      <td>[4, 13]</td>\n",
       "      <td>[774, 385, 775, 199, 634]</td>\n",
       "    </tr>\n",
       "    <tr>\n",
       "      <th>2</th>\n",
       "      <td>4</td>\n",
       "      <td>[4, 7]</td>\n",
       "      <td>[959, 174, 270, 376, 741]</td>\n",
       "    </tr>\n",
       "    <tr>\n",
       "      <th>3</th>\n",
       "      <td>5</td>\n",
       "      <td>[4]</td>\n",
       "      <td>[774, 385, 325, 775, 690]</td>\n",
       "    </tr>\n",
       "    <tr>\n",
       "      <th>4</th>\n",
       "      <td>6</td>\n",
       "      <td>[0, 5, 15]</td>\n",
       "      <td>[228, 422, 88, 396, 16]</td>\n",
       "    </tr>\n",
       "  </tbody>\n",
       "</table>\n",
       "</div>"
      ],
      "text/plain": [
       "   MovieID      Genres             AggregatedTags\n",
       "0        2   [1, 3, 8]   [26, 177, 319, 501, 819]\n",
       "1        3     [4, 13]  [774, 385, 775, 199, 634]\n",
       "2        4      [4, 7]  [959, 174, 270, 376, 741]\n",
       "3        5         [4]  [774, 385, 325, 775, 690]\n",
       "4        6  [0, 5, 15]    [228, 422, 88, 396, 16]"
      ]
     },
     "execution_count": 652,
     "metadata": {},
     "output_type": "execute_result"
    }
   ],
   "source": [
    "movies_genres_df.head(5)"
   ]
  },
  {
   "cell_type": "code",
   "execution_count": 653,
   "metadata": {
    "scrolled": true
   },
   "outputs": [
    {
     "data": {
      "text/plain": [
       "MovieID           0\n",
       "Genres            0\n",
       "AggregatedTags    0\n",
       "dtype: int64"
      ]
     },
     "execution_count": 653,
     "metadata": {},
     "output_type": "execute_result"
    }
   ],
   "source": [
    "# 결측값 확인\n",
    "movies_genres_df.isnull().sum()"
   ]
  },
  {
   "cell_type": "code",
   "execution_count": 654,
   "metadata": {},
   "outputs": [
    {
     "data": {
      "text/plain": [
       "3882"
      ]
     },
     "execution_count": 654,
     "metadata": {},
     "output_type": "execute_result"
    }
   ],
   "source": [
    "# 고유값 확인\n",
    "len(movies_df['MovieID'])"
   ]
  },
  {
   "cell_type": "code",
   "execution_count": 655,
   "metadata": {},
   "outputs": [
    {
     "data": {
      "text/plain": [
       "3882"
      ]
     },
     "execution_count": 655,
     "metadata": {},
     "output_type": "execute_result"
    }
   ],
   "source": [
    "len(movies_genres_df['AggregatedTags'])"
   ]
  },
  {
   "cell_type": "code",
   "execution_count": 656,
   "metadata": {},
   "outputs": [
    {
     "data": {
      "text/plain": [
       "3882"
      ]
     },
     "execution_count": 656,
     "metadata": {},
     "output_type": "execute_result"
    }
   ],
   "source": [
    "movies_genres_df['MovieID'].nunique()"
   ]
  },
  {
   "cell_type": "code",
   "execution_count": 657,
   "metadata": {},
   "outputs": [],
   "source": [
    "# 유저별 영화 rating dataframe 만들기\n",
    "user_movie_rating_df = ratings_df[['UserID','MovieID','Rating']]"
   ]
  },
  {
   "cell_type": "code",
   "execution_count": 658,
   "metadata": {},
   "outputs": [
    {
     "data": {
      "text/html": [
       "<div>\n",
       "<style scoped>\n",
       "    .dataframe tbody tr th:only-of-type {\n",
       "        vertical-align: middle;\n",
       "    }\n",
       "\n",
       "    .dataframe tbody tr th {\n",
       "        vertical-align: top;\n",
       "    }\n",
       "\n",
       "    .dataframe thead th {\n",
       "        text-align: right;\n",
       "    }\n",
       "</style>\n",
       "<table border=\"1\" class=\"dataframe\">\n",
       "  <thead>\n",
       "    <tr style=\"text-align: right;\">\n",
       "      <th></th>\n",
       "      <th>UserID</th>\n",
       "      <th>MovieID</th>\n",
       "      <th>Rating</th>\n",
       "    </tr>\n",
       "  </thead>\n",
       "  <tbody>\n",
       "    <tr>\n",
       "      <th>0</th>\n",
       "      <td>1</td>\n",
       "      <td>1193</td>\n",
       "      <td>5</td>\n",
       "    </tr>\n",
       "    <tr>\n",
       "      <th>1</th>\n",
       "      <td>1</td>\n",
       "      <td>661</td>\n",
       "      <td>3</td>\n",
       "    </tr>\n",
       "    <tr>\n",
       "      <th>2</th>\n",
       "      <td>1</td>\n",
       "      <td>914</td>\n",
       "      <td>3</td>\n",
       "    </tr>\n",
       "    <tr>\n",
       "      <th>3</th>\n",
       "      <td>1</td>\n",
       "      <td>3408</td>\n",
       "      <td>4</td>\n",
       "    </tr>\n",
       "    <tr>\n",
       "      <th>4</th>\n",
       "      <td>1</td>\n",
       "      <td>2355</td>\n",
       "      <td>5</td>\n",
       "    </tr>\n",
       "  </tbody>\n",
       "</table>\n",
       "</div>"
      ],
      "text/plain": [
       "   UserID  MovieID  Rating\n",
       "0       1     1193       5\n",
       "1       1      661       3\n",
       "2       1      914       3\n",
       "3       1     3408       4\n",
       "4       1     2355       5"
      ]
     },
     "execution_count": 658,
     "metadata": {},
     "output_type": "execute_result"
    }
   ],
   "source": [
    "user_movie_rating_df.head(5)"
   ]
  },
  {
   "cell_type": "code",
   "execution_count": 659,
   "metadata": {},
   "outputs": [
    {
     "data": {
      "text/plain": [
       "UserID     0\n",
       "MovieID    0\n",
       "Rating     0\n",
       "dtype: int64"
      ]
     },
     "execution_count": 659,
     "metadata": {},
     "output_type": "execute_result"
    }
   ],
   "source": [
    "# 결측값 확인\n",
    "user_movie_rating_df.isnull().sum()"
   ]
  },
  {
   "cell_type": "code",
   "execution_count": 660,
   "metadata": {
    "scrolled": true
   },
   "outputs": [
    {
     "data": {
      "text/plain": [
       "6040"
      ]
     },
     "execution_count": 660,
     "metadata": {},
     "output_type": "execute_result"
    }
   ],
   "source": [
    "user_movie_rating_df['UserID'].nunique()"
   ]
  },
  {
   "cell_type": "code",
   "execution_count": 661,
   "metadata": {},
   "outputs": [
    {
     "data": {
      "text/plain": [
       "3706"
      ]
     },
     "execution_count": 661,
     "metadata": {},
     "output_type": "execute_result"
    }
   ],
   "source": [
    "user_movie_rating_df['MovieID'].nunique()"
   ]
  },
  {
   "cell_type": "markdown",
   "metadata": {},
   "source": [
    "##  Case1. "
   ]
  },
  {
   "cell_type": "markdown",
   "metadata": {},
   "source": [
    "## 모델 만들기"
   ]
  },
  {
   "cell_type": "code",
   "execution_count": 662,
   "metadata": {},
   "outputs": [],
   "source": [
    "from tensorflow.keras.layers import InputLayer, Embedding, Dot, Reshape, Dense\n",
    "from tensorflow.keras.models import Model"
   ]
  },
  {
   "cell_type": "markdown",
   "metadata": {},
   "source": []
  },
  {
   "cell_type": "markdown",
   "metadata": {},
   "source": [
    "### Movie Genre Embedding 모델 "
   ]
  },
  {
   "cell_type": "code",
   "execution_count": 663,
   "metadata": {},
   "outputs": [],
   "source": [
    "class MovieGenreEmbedding(tf.keras.Model):\n",
    "    def __init__(self, len_movies, len_genres, embedding_size):\n",
    "        super(MovieGenreEmbedding, self).__init__()\n",
    "        self.m_g_t_input = InputLayer(name='input_layer', input_shape=(3,))\n",
    "        # embedding\n",
    "        self.m_embedding = Embedding(name='movie_embedding', input_dim=len_movies, output_dim=embedding_size)\n",
    "        self.g_embedding = Embedding(name='genre_embedding', input_dim=len_genres, output_dim=embedding_size)\n",
    "        # dot product\n",
    "        self.m_g_merge = Dot(name='movie_genre_dot', normalize=True, axes=1)\n",
    "        # output\n",
    "        self.m_g_fc = Dense(1, activation='sigmoid', name='genre_output')\n",
    "        \n",
    "    def call(self, x):\n",
    "        x = self.m_g_t_input(x)\n",
    "        memb = self.m_embedding(x[0])\n",
    "        gemb = self.g_embedding(x[1])\n",
    "        m_g = self.m_g_merge([memb, gemb])\n",
    "#         m_g = self.reshape(m_g)\n",
    "        return self.m_g_fc(m_g)"
   ]
  },
  {
   "cell_type": "code",
   "execution_count": 664,
   "metadata": {},
   "outputs": [],
   "source": [
    "class MovieTagEmbedding(tf.keras.Model):\n",
    "    def __init__(self, len_movies, len_tags, embedding_size):\n",
    "        super(MovieTagEmbedding, self).__init__()\n",
    "        self.m_g_t_input = InputLayer(name='input_layer', input_shape=(3,))\n",
    "        # embedding\n",
    "        self.m_embedding = Embedding(name='movie_embedding', input_dim=len_movies, output_dim=embedding_size)\n",
    "        self.t_embedding = Embedding(name='genre_embedding', input_dim=len_tags, output_dim=embedding_size)\n",
    "        # dot product\n",
    "        self.m_t_merge = Dot(name='movie_genre_dot', normalize=True, axes=1)\n",
    "        # output\n",
    "        self.m_t_fc = Dense(1, activation='sigmoid', name='tag_output')\n",
    "        \n",
    "    def call(self, x):\n",
    "        x = self.m_g_t_input(x)\n",
    "        memb = self.m_embedding(x[0])\n",
    "        temb = self.t_embedding(x[1])\n",
    "        m_t = self.m_t_merge([memb, temb])\n",
    "#         m_g = self.reshape(m_g)\n",
    "        return self.m_t_fc(m_t)"
   ]
  },
  {
   "cell_type": "markdown",
   "metadata": {},
   "source": [
    "### User Embedding 모델 "
   ]
  },
  {
   "cell_type": "code",
   "execution_count": 665,
   "metadata": {},
   "outputs": [],
   "source": [
    "class UserMovieEmbedding(tf.keras.Model):\n",
    "    def __init__(self, len_users, embedding_size):\n",
    "        super(UserMovieEmbedding, self).__init__()\n",
    "        self.m_u_input = InputLayer(name='input_layer', input_shape=(2,))\n",
    "        # embedding\n",
    "        self.u_embedding = Embedding(name='user_embedding', input_dim=len_users, output_dim=embedding_size)\n",
    "        # dot product\n",
    "        self.m_u_merge = Dot(name='movie_user_dot', normalize=False, axes=1)\n",
    "        # output\n",
    "        self.m_u_fc = Dense(1, activation='sigmoid')\n",
    "        \n",
    "    def call(self, x):\n",
    "        x = self.m_u_input(x)\n",
    "        uemb = self.u_embedding(x[0])\n",
    "        m_u = self.m_u_merge([x[1], uemb])\n",
    "        return self.m_u_fc(m_u)"
   ]
  },
  {
   "cell_type": "markdown",
   "metadata": {},
   "source": [
    "## Data generator 만들기"
   ]
  },
  {
   "cell_type": "markdown",
   "metadata": {},
   "source": [
    "### Movie Genre batch generator 만들기"
   ]
  },
  {
   "cell_type": "code",
   "execution_count": 666,
   "metadata": {
    "scrolled": true
   },
   "outputs": [
    {
     "data": {
      "text/html": [
       "<div>\n",
       "<style scoped>\n",
       "    .dataframe tbody tr th:only-of-type {\n",
       "        vertical-align: middle;\n",
       "    }\n",
       "\n",
       "    .dataframe tbody tr th {\n",
       "        vertical-align: top;\n",
       "    }\n",
       "\n",
       "    .dataframe thead th {\n",
       "        text-align: right;\n",
       "    }\n",
       "</style>\n",
       "<table border=\"1\" class=\"dataframe\">\n",
       "  <thead>\n",
       "    <tr style=\"text-align: right;\">\n",
       "      <th></th>\n",
       "      <th>MovieID</th>\n",
       "      <th>Genres</th>\n",
       "      <th>AggregatedTags</th>\n",
       "    </tr>\n",
       "  </thead>\n",
       "  <tbody>\n",
       "    <tr>\n",
       "      <th>0</th>\n",
       "      <td>2</td>\n",
       "      <td>[1, 3, 8]</td>\n",
       "      <td>[26, 177, 319, 501, 819]</td>\n",
       "    </tr>\n",
       "    <tr>\n",
       "      <th>1</th>\n",
       "      <td>3</td>\n",
       "      <td>[4, 13]</td>\n",
       "      <td>[774, 385, 775, 199, 634]</td>\n",
       "    </tr>\n",
       "    <tr>\n",
       "      <th>2</th>\n",
       "      <td>4</td>\n",
       "      <td>[4, 7]</td>\n",
       "      <td>[959, 174, 270, 376, 741]</td>\n",
       "    </tr>\n",
       "    <tr>\n",
       "      <th>3</th>\n",
       "      <td>5</td>\n",
       "      <td>[4]</td>\n",
       "      <td>[774, 385, 325, 775, 690]</td>\n",
       "    </tr>\n",
       "    <tr>\n",
       "      <th>4</th>\n",
       "      <td>6</td>\n",
       "      <td>[0, 5, 15]</td>\n",
       "      <td>[228, 422, 88, 396, 16]</td>\n",
       "    </tr>\n",
       "  </tbody>\n",
       "</table>\n",
       "</div>"
      ],
      "text/plain": [
       "   MovieID      Genres             AggregatedTags\n",
       "0        2   [1, 3, 8]   [26, 177, 319, 501, 819]\n",
       "1        3     [4, 13]  [774, 385, 775, 199, 634]\n",
       "2        4      [4, 7]  [959, 174, 270, 376, 741]\n",
       "3        5         [4]  [774, 385, 325, 775, 690]\n",
       "4        6  [0, 5, 15]    [228, 422, 88, 396, 16]"
      ]
     },
     "execution_count": 666,
     "metadata": {},
     "output_type": "execute_result"
    }
   ],
   "source": [
    "# movie genre data generator만들기\n",
    "movies_genres_df.head()"
   ]
  },
  {
   "cell_type": "code",
   "execution_count": 667,
   "metadata": {},
   "outputs": [
    {
     "data": {
      "text/plain": [
       "([1, 3, 8], [26, 177, 319, 501, 819])"
      ]
     },
     "execution_count": 667,
     "metadata": {},
     "output_type": "execute_result"
    }
   ],
   "source": [
    "movies_genres_dict = {m : (g, t) for m, g, t in zip(movies_genres_df[\"MovieID\"],movies_genres_df[\"Genres\"], movies_genres_df[\"AggregatedTags\"])}\n",
    "movies_genres_dict[2]"
   ]
  },
  {
   "cell_type": "code",
   "execution_count": 668,
   "metadata": {},
   "outputs": [],
   "source": [
    "positive_m_g_pairs = []\n",
    "negative_m_g_pairs = []\n",
    "for movie in movies_genres_df[\"MovieID\"]:\n",
    "    for i in range(len(genres)):\n",
    "        if i in movies_genres_dict[movie][0]:\n",
    "            positive_m_g_pairs.append((movie, i, 1))\n",
    "        else:\n",
    "            negative_m_g_pairs.append((movie, i, 0))"
   ]
  },
  {
   "cell_type": "code",
   "execution_count": 669,
   "metadata": {},
   "outputs": [],
   "source": [
    "positive_m_t_pairs = []\n",
    "negative_m_t_pairs = []\n",
    "for movie in movies_genres_df[\"MovieID\"]:\n",
    "    for i in unique_tag_ids:\n",
    "        if i in movies_genres_dict[movie][1]:\n",
    "            positive_m_t_pairs.append((movie, i, 1))\n",
    "        else:\n",
    "            negative_m_t_pairs.append((movie, i, 0))"
   ]
  },
  {
   "cell_type": "code",
   "execution_count": 670,
   "metadata": {},
   "outputs": [],
   "source": [
    "def generate_movie_feature_batch(positive_pairs, negative_pairs, batch_size, negative_ratio=0.5):\n",
    "    \n",
    "    batch = np.zeros((batch_size, 3))\n",
    "    num_of_positive = batch_size-int(batch_size*negative_ratio)\n",
    "    \n",
    "    while True:\n",
    "        idx = np.random.choice(len(positive_pairs), num_of_positive)\n",
    "        positive_data = np.array(positive_pairs)[idx]\n",
    "        for i, data in enumerate(positive_data):\n",
    "            batch[i] = data\n",
    "        \n",
    "        idx = np.random.choice(len(negative_pairs), int(batch_size*negative_ratio))\n",
    "        negative_data = np.array(negative_pairs)[idx]\n",
    "        for i, data in enumerate(negative_data):\n",
    "            batch[num_of_positive+i] = data\n",
    "        \n",
    "        np.random.shuffle(batch)\n",
    "        yield batch[:,0], batch[:,1], batch[:,2]"
   ]
  },
  {
   "cell_type": "code",
   "execution_count": 671,
   "metadata": {},
   "outputs": [
    {
     "data": {
      "text/html": [
       "<div>\n",
       "<style scoped>\n",
       "    .dataframe tbody tr th:only-of-type {\n",
       "        vertical-align: middle;\n",
       "    }\n",
       "\n",
       "    .dataframe tbody tr th {\n",
       "        vertical-align: top;\n",
       "    }\n",
       "\n",
       "    .dataframe thead th {\n",
       "        text-align: right;\n",
       "    }\n",
       "</style>\n",
       "<table border=\"1\" class=\"dataframe\">\n",
       "  <thead>\n",
       "    <tr style=\"text-align: right;\">\n",
       "      <th></th>\n",
       "      <th>UserID</th>\n",
       "      <th>MovieID</th>\n",
       "      <th>Rating</th>\n",
       "    </tr>\n",
       "  </thead>\n",
       "  <tbody>\n",
       "    <tr>\n",
       "      <th>0</th>\n",
       "      <td>1</td>\n",
       "      <td>1193</td>\n",
       "      <td>5</td>\n",
       "    </tr>\n",
       "    <tr>\n",
       "      <th>1</th>\n",
       "      <td>1</td>\n",
       "      <td>661</td>\n",
       "      <td>3</td>\n",
       "    </tr>\n",
       "    <tr>\n",
       "      <th>2</th>\n",
       "      <td>1</td>\n",
       "      <td>914</td>\n",
       "      <td>3</td>\n",
       "    </tr>\n",
       "    <tr>\n",
       "      <th>3</th>\n",
       "      <td>1</td>\n",
       "      <td>3408</td>\n",
       "      <td>4</td>\n",
       "    </tr>\n",
       "    <tr>\n",
       "      <th>4</th>\n",
       "      <td>1</td>\n",
       "      <td>2355</td>\n",
       "      <td>5</td>\n",
       "    </tr>\n",
       "  </tbody>\n",
       "</table>\n",
       "</div>"
      ],
      "text/plain": [
       "   UserID  MovieID  Rating\n",
       "0       1     1193       5\n",
       "1       1      661       3\n",
       "2       1      914       3\n",
       "3       1     3408       4\n",
       "4       1     2355       5"
      ]
     },
     "execution_count": 671,
     "metadata": {},
     "output_type": "execute_result"
    }
   ],
   "source": [
    "# user movie data generator만들기\n",
    "user_movie_rating_df = user_movie_rating_df.apply(np.int32)\n",
    "user_movie_rating_df.head()"
   ]
  },
  {
   "cell_type": "markdown",
   "metadata": {},
   "source": [
    "### User batch generator 만들기"
   ]
  },
  {
   "cell_type": "code",
   "execution_count": 672,
   "metadata": {},
   "outputs": [
    {
     "data": {
      "text/plain": [
       "array([[   1, 1193],\n",
       "       [   1, 3408],\n",
       "       [   1, 2355],\n",
       "       [   1, 1287],\n",
       "       [   1, 2804]], dtype=int32)"
      ]
     },
     "execution_count": 672,
     "metadata": {},
     "output_type": "execute_result"
    }
   ],
   "source": [
    "modified_user_movie_rating_df = user_movie_rating_df.apply(np.int32)\n",
    "index_names = modified_user_movie_rating_df[modified_user_movie_rating_df['Rating']<4].index\n",
    "modified_user_movie_rating_df = modified_user_movie_rating_df.drop(index_names)\n",
    "modified_user_movie_rating_df = modified_user_movie_rating_df.drop('Rating', axis=1)\n",
    "u_m_pairs = modified_user_movie_rating_df.to_numpy()\n",
    "u_m_pairs[:5]"
   ]
  },
  {
   "cell_type": "code",
   "execution_count": 673,
   "metadata": {
    "scrolled": true
   },
   "outputs": [
    {
     "data": {
      "text/plain": [
       "[1193,\n",
       " 3408,\n",
       " 2355,\n",
       " 1287,\n",
       " 2804,\n",
       " 594,\n",
       " 919,\n",
       " 595,\n",
       " 938,\n",
       " 2398,\n",
       " 2918,\n",
       " 1035,\n",
       " 2791,\n",
       " 2018,\n",
       " 3105,\n",
       " 2797,\n",
       " 1270,\n",
       " 527,\n",
       " 48,\n",
       " 1097,\n",
       " 1721,\n",
       " 1545,\n",
       " 2294,\n",
       " 3186,\n",
       " 1566,\n",
       " 588,\n",
       " 1907,\n",
       " 783,\n",
       " 1836,\n",
       " 1022,\n",
       " 2762,\n",
       " 150,\n",
       " 1,\n",
       " 1961,\n",
       " 1962,\n",
       " 2692,\n",
       " 260,\n",
       " 1028,\n",
       " 1029,\n",
       " 1207,\n",
       " 2028,\n",
       " 531,\n",
       " 3114,\n",
       " 608,\n",
       " 1246]"
      ]
     },
     "execution_count": 673,
     "metadata": {},
     "output_type": "execute_result"
    }
   ],
   "source": [
    "positive_user_movie_dict = {u : [] for u in range(1, max(modified_user_movie_rating_df['UserID'])+1)}\n",
    "for data in modified_user_movie_rating_df.iterrows():\n",
    "    positive_user_movie_dict[data[1][0]].append(data[1][1])\n",
    "positive_user_movie_dict[1]"
   ]
  },
  {
   "cell_type": "code",
   "execution_count": 403,
   "metadata": {},
   "outputs": [],
   "source": [
    "def generate_user_movie_batch(positive_pairs, batch_size, negative_ratio=0.5):\n",
    "    batch = np.zeros((batch_size, 3))\n",
    "    positive_batch_size = batch_size - int(batch_size*negative_ratio)\n",
    "    max_user_id = max(modified_user_movie_rating_df['UserID'])+1\n",
    "    max_movie_id = max(modified_user_movie_rating_df['MovieID'])+1\n",
    "    \n",
    "    while True:\n",
    "        idx = np.random.choice(len(positive_pairs), positive_batch_size)\n",
    "        data = positive_pairs[idx]\n",
    "        for i, d in enumerate(data):\n",
    "            batch[i] = (d[0], d[1], 1)\n",
    "        \n",
    "        while i+1 < batch_size:\n",
    "            u = np.random.randint(1, max_user_id)\n",
    "            m = np.random.randint(1, max_movie_id)\n",
    "            if m not in positive_user_movie_dict[u]:\n",
    "                i += 1\n",
    "                batch[i] = (u, m, 0)\n",
    "        \n",
    "        np.random.shuffle(batch)\n",
    "        yield batch[:,0], batch[:,1], batch[:,2]"
   ]
  },
  {
   "cell_type": "markdown",
   "metadata": {},
   "source": [
    "##  학습"
   ]
  },
  {
   "cell_type": "code",
   "execution_count": 674,
   "metadata": {},
   "outputs": [],
   "source": [
    "LEN_MOVIES = max(movies_genres_df[\"MovieID\"])+1\n",
    "LEN_GENRES = len(genres)+1\n",
    "LEN_TAGS = tags+1\n",
    "LEN_USERS = max(user_movie_rating_df['UserID'])+1\n",
    "EMBEDDING_SIZE = 100\n",
    "\n",
    "MAX_EPOCH = 100\n",
    "MOVIE_BATCH_SIZE = 128\n",
    "MOVIE_STEP_PER_EPOCH = len(positive_m_g_pairs)//MOVIE_BATCH_SIZE #, len(positive_m_t_pairs)//MOVIE_BATCH_SIZE)"
   ]
  },
  {
   "cell_type": "markdown",
   "metadata": {},
   "source": [
    "### Movie Genre Embedding 모델 학습"
   ]
  },
  {
   "cell_type": "code",
   "execution_count": 675,
   "metadata": {},
   "outputs": [],
   "source": [
    "m_g_model = MovieGenreEmbedding(LEN_MOVIES, LEN_GENRES,EMBEDDING_SIZE)\n",
    "m_t_model = MovieTagEmbedding(LEN_MOVIES, LEN_TAGS,EMBEDDING_SIZE)"
   ]
  },
  {
   "cell_type": "code",
   "execution_count": 676,
   "metadata": {},
   "outputs": [
    {
     "name": "stdout",
     "output_type": "stream",
     "text": [
      "Model: \"movie_genre_embedding_12\"\n",
      "_________________________________________________________________\n",
      " Layer (type)                Output Shape              Param #   \n",
      "=================================================================\n",
      " input_layer (InputLayer)    [(None, 3)]               0         \n",
      "                                                                 \n",
      " movie_embedding (Embedding  multiple                  395300    \n",
      " )                                                               \n",
      "                                                                 \n",
      " genre_embedding (Embedding  multiple                  1900      \n",
      " )                                                               \n",
      "                                                                 \n",
      " movie_genre_dot (Dot)       multiple                  0         \n",
      "                                                                 \n",
      " genre_output (Dense)        multiple                  2         \n",
      "                                                                 \n",
      "=================================================================\n",
      "Total params: 397202 (1.52 MB)\n",
      "Trainable params: 397202 (1.52 MB)\n",
      "Non-trainable params: 0 (0.00 Byte)\n",
      "_________________________________________________________________\n"
     ]
    }
   ],
   "source": [
    "m_g_model([np.zeros((1)),np.zeros((1))])\n",
    "m_g_model.summary()"
   ]
  },
  {
   "cell_type": "code",
   "execution_count": 677,
   "metadata": {},
   "outputs": [
    {
     "name": "stdout",
     "output_type": "stream",
     "text": [
      "Model: \"movie_tag_embedding_1\"\n",
      "_________________________________________________________________\n",
      " Layer (type)                Output Shape              Param #   \n",
      "=================================================================\n",
      " input_layer (InputLayer)    [(None, 3)]               0         \n",
      "                                                                 \n",
      " movie_embedding (Embedding  multiple                  395300    \n",
      " )                                                               \n",
      "                                                                 \n",
      " genre_embedding (Embedding  multiple                  97200     \n",
      " )                                                               \n",
      "                                                                 \n",
      " movie_genre_dot (Dot)       multiple                  0         \n",
      "                                                                 \n",
      " tag_output (Dense)          multiple                  2         \n",
      "                                                                 \n",
      "=================================================================\n",
      "Total params: 492502 (1.88 MB)\n",
      "Trainable params: 492502 (1.88 MB)\n",
      "Non-trainable params: 0 (0.00 Byte)\n",
      "_________________________________________________________________\n"
     ]
    },
    {
     "data": {
      "text/plain": [
       "<__main__.MovieTagEmbedding at 0x7f85ca9b3040>"
      ]
     },
     "execution_count": 677,
     "metadata": {},
     "output_type": "execute_result"
    }
   ],
   "source": [
    "m_t_model([np.zeros((1)),np.zeros((1))])\n",
    "m_t_model.summary()\n",
    "m_t_model"
   ]
  },
  {
   "cell_type": "code",
   "execution_count": 678,
   "metadata": {},
   "outputs": [],
   "source": [
    "# optimizer\n",
    "optimizer = tf.keras.optimizers.Adam()\n",
    "# loss\n",
    "bce = tf.keras.losses.BinaryCrossentropy()"
   ]
  },
  {
   "cell_type": "code",
   "execution_count": 679,
   "metadata": {},
   "outputs": [],
   "source": [
    "m_g_train_loss = tf.keras.metrics.Mean(name='train_loss')\n",
    "m_g_train_accuracy = tf.keras.metrics.BinaryAccuracy(name='train_accuracy')\n",
    "\n",
    "@tf.function\n",
    "def m_g_train_step(m_g_inputs, labels):\n",
    "    with tf.GradientTape() as tape:\n",
    "        # training=True is only needed if there are layers with different\n",
    "        # behavior during training versus inference (e.g. Dropout).\n",
    "        predictions = m_g_model(m_g_inputs, training=True)\n",
    "        loss = bce(labels, predictions)\n",
    "    gradients = tape.gradient(loss, m_g_model.trainable_variables)\n",
    "    optimizer.apply_gradients(zip(gradients, m_g_model.trainable_variables))\n",
    "\n",
    "    m_g_train_loss(loss)\n",
    "    m_g_train_accuracy(labels, predictions)"
   ]
  },
  {
   "cell_type": "code",
   "execution_count": 680,
   "metadata": {},
   "outputs": [],
   "source": [
    "m_t_train_loss = tf.keras.metrics.Mean(name='train_loss')\n",
    "m_t_train_accuracy = tf.keras.metrics.BinaryAccuracy(name='train_accuracy')\n",
    "\n",
    "@tf.function\n",
    "def m_t_train_step(m_t_inputs, labels):\n",
    "    with tf.GradientTape() as tape:\n",
    "        # training=True is only needed if there are layers with different\n",
    "        # behavior during training versus inference (e.g. Dropout).\n",
    "        predictions = m_t_model(m_t_inputs, training=True)\n",
    "        loss = bce(labels, predictions)\n",
    "    gradients = tape.gradient(loss, m_t_model.trainable_variables)\n",
    "    optimizer.apply_gradients(zip(gradients, m_t_model.trainable_variables))\n",
    "\n",
    "    m_t_train_loss(loss)\n",
    "    m_t_train_accuracy(labels, predictions)\n"
   ]
  },
  {
   "cell_type": "code",
   "execution_count": 685,
   "metadata": {},
   "outputs": [
    {
     "name": "stdout",
     "output_type": "stream",
     "text": [
      "99 epoch, 49 steps, Loss: 0.1681, Accuracy: 97.8\r"
     ]
    }
   ],
   "source": [
    "# for log\n",
    "# for log\n",
    "m_g_losses = []\n",
    "\n",
    "for epoch in range(MAX_EPOCH):\n",
    "    \n",
    "    m_g_generator = generate_movie_feature_batch(positive_m_g_pairs, negative_m_g_pairs, MOVIE_BATCH_SIZE, negative_ratio=0.5)\n",
    "    \n",
    "    for step in range(MOVIE_STEP_PER_EPOCH):\n",
    "        # embedding layer update\n",
    "        m_batch, g_batch, m_g_label_batch = next(m_g_generator)\n",
    "        m_g_train_step([m_batch, g_batch], m_g_label_batch)\n",
    "        \n",
    "        print(f'{epoch} epoch, {step} steps, Loss: {m_g_train_loss.result():0.4f}, Accuracy: {m_g_train_accuracy.result() * 100:0.1f}', end='\\r')\n",
    "\n",
    "    m_g_losses.append(m_g_train_loss.result())"
   ]
  },
  {
   "cell_type": "code",
   "execution_count": 681,
   "metadata": {
    "tags": []
   },
   "outputs": [],
   "source": [
    "# optimizer\n",
    "optimizer = tf.keras.optimizers.legacy.Adam()\n",
    "# loss\n",
    "bce = tf.keras.losses.BinaryCrossentropy()"
   ]
  },
  {
   "cell_type": "code",
   "execution_count": 682,
   "metadata": {},
   "outputs": [
    {
     "name": "stdout",
     "output_type": "stream",
     "text": [
      "99 epoch, 49 steps, Loss: 0.3510, Accuracy: 93.3\r"
     ]
    }
   ],
   "source": [
    "m_t_losses = []\n",
    "for epoch in range(MAX_EPOCH):\n",
    "    \n",
    "    m_t_generator = generate_movie_feature_batch(positive_m_t_pairs, negative_m_t_pairs, MOVIE_BATCH_SIZE, negative_ratio=0.5)\n",
    "    \n",
    "    for step in range(MOVIE_STEP_PER_EPOCH):\n",
    "        # embedding layer update\n",
    "        m_batch, t_batch, m_t_label_batch = next(m_t_generator)\n",
    "        m_t_train_step([m_batch, t_batch], m_t_label_batch)\n",
    "        \n",
    "        print(f'{epoch} epoch, {step} steps, Loss: {m_t_train_loss.result():0.4f}, Accuracy: {m_t_train_accuracy.result() * 100:0.1f}', end='\\r')\n",
    "\n",
    "    m_t_losses.append(m_t_train_loss.result())"
   ]
  },
  {
   "cell_type": "code",
   "execution_count": 683,
   "metadata": {
    "scrolled": true
   },
   "outputs": [
    {
     "data": {
      "text/plain": [
       "[<matplotlib.lines.Line2D at 0x7f8573133fd0>]"
      ]
     },
     "execution_count": 683,
     "metadata": {},
     "output_type": "execute_result"
    },
    {
     "data": {
      "image/png": "[encoded data removed]",
      "text/plain": [
       "<Figure size 432x288 with 1 Axes>"
      ]
     },
     "metadata": {
      "needs_background": "light"
     },
     "output_type": "display_data"
    }
   ],
   "source": [
    "plt.plot(m_t_losses)"
   ]
  },
  {
   "cell_type": "code",
   "execution_count": null,
   "metadata": {},
   "outputs": [],
   "source": [
    "m_g_model.save_weights('./save_weights/m_g_model_weights.h5')"
   ]
  },
  {
   "cell_type": "code",
   "execution_count": 684,
   "metadata": {},
   "outputs": [],
   "source": [
    "m_t_model.save_weights('./save_weights/m_t_model_weights.h5')"
   ]
  },
  {
   "cell_type": "markdown",
   "metadata": {},
   "source": [
    "### User Movie Embedding 모델 학습"
   ]
  },
  {
   "cell_type": "code",
   "execution_count": null,
   "metadata": {},
   "outputs": [],
   "source": [
    "MAX_EPOCH = 150\n",
    "INIT_USER_BATCH_SIZE = 64\n",
    "FINAL_USER_BATCH_SIZE = 1024"
   ]
  },
  {
   "cell_type": "code",
   "execution_count": null,
   "metadata": {},
   "outputs": [],
   "source": [
    "u_m_model = UserMovieEmbedding(LEN_USERS, EMBEDDING_SIZE)"
   ]
  },
  {
   "cell_type": "code",
   "execution_count": null,
   "metadata": {},
   "outputs": [],
   "source": [
    "u_m_model([np.zeros((1)),np.zeros((1,100))])\n",
    "u_m_model.summary()"
   ]
  },
  {
   "cell_type": "code",
   "execution_count": null,
   "metadata": {},
   "outputs": [],
   "source": [
    "# optimizer\n",
    "optimizer = tf.keras.optimizers.Adam()\n",
    "# loss\n",
    "bce = tf.keras.losses.BinaryCrossentropy()"
   ]
  },
  {
   "cell_type": "code",
   "execution_count": null,
   "metadata": {},
   "outputs": [],
   "source": [
    "u_m_train_loss = tf.keras.metrics.Mean(name='train_loss')\n",
    "u_m_train_accuracy = tf.keras.metrics.BinaryAccuracy(name='train_accuracy')\n",
    "\n",
    "\n",
    "@tf.function\n",
    "def u_m_train_step(u_m_inputs, labels):\n",
    "    with tf.GradientTape() as tape:\n",
    "        # training=True is only needed if there are layers with different\n",
    "        # behavior during training versus inference (e.g. Dropout).\n",
    "        predictions = u_m_model(u_m_inputs, training=True)\n",
    "        loss = bce(labels, predictions)\n",
    "    gradients = tape.gradient(loss, u_m_model.trainable_variables)\n",
    "    optimizer.apply_gradients(zip(gradients, u_m_model.trainable_variables))\n",
    "\n",
    "    u_m_train_loss(loss)\n",
    "    u_m_train_accuracy(labels, predictions)"
   ]
  },
  {
   "cell_type": "code",
   "execution_count": null,
   "metadata": {},
   "outputs": [],
   "source": [
    "# for log\n",
    "u_m_losses = []\n",
    "\n",
    "for epoch in range(MAX_EPOCH):\n",
    "    \n",
    "    batch_size = INIT_USER_BATCH_SIZE * (epoch+1)\n",
    "    if batch_size > FINAL_USER_BATCH_SIZE:\n",
    "        batch_size = FINAL_USER_BATCH_SIZE\n",
    "    u_m_generator = generate_user_movie_batch(u_m_pairs, batch_size)\n",
    "    \n",
    "    for step in range(len(user_movie_rating_df)//batch_size):\n",
    "        # embedding layer update\n",
    "        u_batch, m_batch, u_m_label_batch = next(u_m_generator)\n",
    "        m_batch = m_g_model.get_layer('movie_embedding')(m_batch)\n",
    "        u_m_train_step([u_batch, m_batch], u_m_label_batch)\n",
    "        \n",
    "        print(f'{epoch} epoch, Batch size : {batch_size}, {step} steps, Loss: {u_m_train_loss.result():0.4f}, Accuracy: {u_m_train_accuracy.result() * 100:0.1f}', end='\\r')\n",
    "\n",
    "    u_m_losses.append(u_m_train_loss.result())"
   ]
  },
  {
   "cell_type": "code",
   "execution_count": null,
   "metadata": {},
   "outputs": [],
   "source": [
    "plt.plot(u_m_losses)"
   ]
  },
  {
   "cell_type": "code",
   "execution_count": null,
   "metadata": {},
   "outputs": [],
   "source": [
    "u_m_model.save_weights('./save_weights/u_m_model_weights.h5')"
   ]
  },
  {
   "cell_type": "markdown",
   "metadata": {},
   "source": [
    "### 시각화 "
   ]
  },
  {
   "cell_type": "code",
   "execution_count": null,
   "metadata": {},
   "outputs": [],
   "source": [
    "# # 모델 가중치 불러오기\n",
    "# model.load_weights('./save_weights/embedding_24epoch.h5')"
   ]
  },
  {
   "cell_type": "code",
   "execution_count": null,
   "metadata": {},
   "outputs": [],
   "source": [
    "# embedded movie dataframe 만들기\n",
    "embedded_movie = movies_genres_df['MovieID'].apply(m_g_t_model.get_layer('movie_embedding'))\n",
    "columns = [x for x in range(100)]\n",
    "embedded_movie_df = pd.DataFrame(columns = columns)\n",
    "for data in embedded_movie:\n",
    "    embedded_movie_df = embedded_movie_df.append(pd.Series(data), ignore_index=True)\n",
    "embedded_movie_df.head()"
   ]
  },
  {
   "cell_type": "code",
   "execution_count": null,
   "metadata": {},
   "outputs": [],
   "source": [
    "# PCA를 이용한 차원 축소\n",
    "from sklearn.preprocessing import StandardScaler\n",
    "from sklearn.decomposition import PCA\n",
    "\n",
    "movie_scaled = StandardScaler().fit_transform(embedded_movie_df)\n",
    "pca = PCA(n_components=2)\n",
    "pca.fit(movie_scaled)\n",
    "movie_pca = pca.transform(movie_scaled)\n",
    "pca_columns=[f'{n}' for n in range(2)]\n",
    "movie_df_pca = pd.DataFrame(movie_pca,columns=pca_columns)\n",
    "movie_df_pca = pd.concat([movie_df_pca, movies_df[\"Title\"]], axis=1)\n",
    "movie_df_pca = pd.concat([movie_df_pca, movies_df[\"Genres\"]], axis=1)\n",
    "movie_df_pca.head()"
   ]
  },
  {
   "cell_type": "code",
   "execution_count": null,
   "metadata": {},
   "outputs": [],
   "source": [
    "# 시각화\n",
    "fig = px.scatter(movie_df_pca, x='0', y='1', color='Genres')\n",
    "fig.show()"
   ]
  },
  {
   "cell_type": "code",
   "execution_count": null,
   "metadata": {},
   "outputs": [],
   "source": [
    "# T-SNE를 이용한 차원 축소\n",
    "import matplotlib.pyplot as plt\n",
    "from sklearn.manifold import TSNE\n",
    "\n",
    "tsne = TSNE(n_components=2).fit_transform(embedded_movie_df)\n",
    "tsne_df = pd.DataFrame({'x': tsne[:, 0], 'y':tsne[:, 1]})\n",
    "tsne_df = pd.concat([tsne_df, movies_df[\"Title\"]], axis=1)\n",
    "tsne_df = pd.concat([tsne_df, movies_df[\"Genres\"]], axis=1)\n",
    "tsne_df.head()"
   ]
  },
  {
   "cell_type": "code",
   "execution_count": null,
   "metadata": {},
   "outputs": [],
   "source": [
    "# 시각화\n",
    "fig = px.scatter(tsne_df, x='x', y='y', color='Genres')\n",
    "fig.show()"
   ]
  },
  {
   "cell_type": "code",
   "execution_count": null,
   "metadata": {},
   "outputs": [],
   "source": [
    "# embedded user dataframe 만들기\n",
    "embedded_user = users_df['UserID'].apply(np.int32).apply(u_m_model.get_layer('user_embedding'))\n",
    "columns = [x for x in range(100)]\n",
    "embedded_user_df = pd.DataFrame(columns = columns)\n",
    "for data in embedded_user:\n",
    "    embedded_user_df = embedded_user_df.append(pd.Series(data.numpy()), ignore_index=True)\n",
    "embedded_user_df.head()"
   ]
  },
  {
   "cell_type": "code",
   "execution_count": null,
   "metadata": {},
   "outputs": [],
   "source": [
    "users_df.head()"
   ]
  },
  {
   "cell_type": "code",
   "execution_count": null,
   "metadata": {},
   "outputs": [],
   "source": [
    "# PCA를 이용한 차원 축소\n",
    "from sklearn.preprocessing import StandardScaler\n",
    "from sklearn.decomposition import PCA\n",
    "\n",
    "user_scaled = StandardScaler().fit_transform(embedded_user_df)\n",
    "pca = PCA(n_components=2)\n",
    "pca.fit(user_scaled)\n",
    "user_pca = pca.transform(user_scaled)\n",
    "pca_columns=[f'{n}' for n in range(2)]\n",
    "user_df_pca = pd.DataFrame(user_pca,columns=pca_columns)\n",
    "user_df_pca = pd.concat([user_df_pca, users_df[\"Gender\"]], axis=1)\n",
    "user_df_pca = pd.concat([user_df_pca, users_df[\"Age\"]], axis=1)\n",
    "user_df_pca = pd.concat([user_df_pca, users_df[\"Zip-code\"]], axis=1)\n",
    "user_df_pca.head()"
   ]
  },
  {
   "cell_type": "code",
   "execution_count": null,
   "metadata": {},
   "outputs": [],
   "source": [
    "# 시각화\n",
    "fig = px.scatter(user_df_pca, x='0', y='1', hover_data=user_df_pca)\n",
    "fig.show()"
   ]
  },
  {
   "cell_type": "code",
   "execution_count": null,
   "metadata": {},
   "outputs": [],
   "source": [
    "# T-SNE를 이용한 차원 축소\n",
    "import matplotlib.pyplot as plt\n",
    "from sklearn.manifold import TSNE\n",
    "\n",
    "tsne = TSNE(n_components=2).fit_transform(embedded_user_df)\n",
    "tsne_df = pd.DataFrame({'x': tsne[:, 0], 'y':tsne[:, 1]})\n",
    "tsne_df = pd.concat([tsne_df, users_df[\"Gender\"]], axis=1)\n",
    "tsne_df = pd.concat([tsne_df, users_df[\"Age\"]], axis=1)\n",
    "tsne_df = pd.concat([tsne_df, users_df[\"Zip-code\"]], axis=1)\n",
    "tsne_df.head()"
   ]
  },
  {
   "cell_type": "code",
   "execution_count": null,
   "metadata": {},
   "outputs": [],
   "source": [
    "# 시각화\n",
    "fig = px.scatter(tsne_df, x='x', y='y', hover_data=tsne_df)\n",
    "fig.show()"
   ]
  },
  {
   "cell_type": "code",
   "execution_count": null,
   "metadata": {},
   "outputs": [],
   "source": []
  },
  {
   "cell_type": "code",
   "execution_count": null,
   "metadata": {},
   "outputs": [],
   "source": []
  },
  {
   "cell_type": "code",
   "execution_count": null,
   "metadata": {},
   "outputs": [],
   "source": []
  },
  {
   "cell_type": "markdown",
   "metadata": {},
   "source": [
    "##  Case2."
   ]
  },
  {
   "cell_type": "code",
   "execution_count": null,
   "metadata": {},
   "outputs": [],
   "source": [
    "LEN_MOVIES = max(movies_genres_df[\"MovieID\"])+1\n",
    "LEN_GENRES = len(genres)+1\n",
    "LEN_USERS = max(user_movie_rating_df['UserID'])+1\n",
    "EMBEDDING_SIZE = 100"
   ]
  },
  {
   "cell_type": "code",
   "execution_count": null,
   "metadata": {},
   "outputs": [],
   "source": [
    "class TestUserMovieEmbedding(tf.keras.Model):\n",
    "    def __init__(self, len_users, len_movies, embedding_size):\n",
    "        super(TestUserMovieEmbedding, self).__init__()\n",
    "        self.m_u_input = InputLayer(name='input_layer', input_shape=(2,))\n",
    "        # embedding\n",
    "        self.u_embedding = Embedding(name='user_embedding', input_dim=len_users, output_dim=embedding_size)\n",
    "        self.m_embedding = Embedding(name='movie_embedding', input_dim=len_movies, output_dim=embedding_size)\n",
    "        # dot product\n",
    "        self.m_u_merge = Dot(name='movie_user_dot', normalize=False, axes=1)\n",
    "        # output\n",
    "        self.m_u_fc = Dense(1, activation='sigmoid')\n",
    "        \n",
    "    def call(self, x):\n",
    "        x = self.m_u_input(x)\n",
    "        uemb = self.u_embedding(x[0])\n",
    "        memb = self.m_embedding(x[1])\n",
    "        m_u = self.m_u_merge([memb, uemb])\n",
    "        return self.m_u_fc(m_u)"
   ]
  },
  {
   "cell_type": "code",
   "execution_count": null,
   "metadata": {},
   "outputs": [],
   "source": [
    "MAX_EPOCH = 150\n",
    "INIT_USER_BATCH_SIZE = 64\n",
    "FINAL_USER_BATCH_SIZE = 1024"
   ]
  },
  {
   "cell_type": "code",
   "execution_count": null,
   "metadata": {},
   "outputs": [],
   "source": [
    "test_model = TestUserMovieEmbedding(LEN_USERS, LEN_MOVIES, EMBEDDING_SIZE)\n",
    "\n",
    "test_model([np.zeros((1)),np.zeros((1))])\n",
    "test_model.summary()"
   ]
  },
  {
   "cell_type": "code",
   "execution_count": null,
   "metadata": {},
   "outputs": [],
   "source": [
    "# optimizer\n",
    "optimizer = tf.keras.optimizers.Adam()\n",
    "# loss\n",
    "bce = tf.keras.losses.BinaryCrossentropy()"
   ]
  },
  {
   "cell_type": "code",
   "execution_count": null,
   "metadata": {},
   "outputs": [],
   "source": [
    "test_train_loss = tf.keras.metrics.Mean(name='train_loss')\n",
    "test_train_accuracy = tf.keras.metrics.BinaryAccuracy(name='train_accuracy')\n",
    "\n",
    "\n",
    "@tf.function\n",
    "def test_train_step(test_inputs, labels):\n",
    "    with tf.GradientTape() as tape:\n",
    "        # training=True is only needed if there are layers with different\n",
    "        # behavior during training versus inference (e.g. Dropout).\n",
    "        predictions = test_model(test_inputs, training=True)\n",
    "        loss = bce(labels, predictions)\n",
    "    gradients = tape.gradient(loss, test_model.trainable_variables)\n",
    "    optimizer.apply_gradients(zip(gradients, test_model.trainable_variables))\n",
    "\n",
    "    test_train_loss(loss)\n",
    "    test_train_accuracy(labels, predictions)"
   ]
  },
  {
   "cell_type": "code",
   "execution_count": null,
   "metadata": {},
   "outputs": [],
   "source": [
    "# for log\n",
    "test_losses = []\n",
    "\n",
    "for epoch in range(MAX_EPOCH):\n",
    "    \n",
    "    batch_size = INIT_USER_BATCH_SIZE * (epoch+1)\n",
    "    if batch_size > FINAL_USER_BATCH_SIZE:\n",
    "        batch_size = FINAL_USER_BATCH_SIZE\n",
    "    test_generator = generate_user_movie_batch(u_m_pairs, batch_size)\n",
    "    \n",
    "    for step in range(len(user_movie_rating_df)//batch_size):\n",
    "        # embedding layer update\n",
    "        u_batch, m_batch, u_m_label_batch = next(test_generator)\n",
    "        test_train_step([u_batch, m_batch], u_m_label_batch)\n",
    "        \n",
    "        print(f'{epoch} epoch, Batch size : {batch_size}, {step} steps, Loss: {test_train_loss.result():0.4f}, Accuracy: {test_train_accuracy.result() * 100:0.1f}', end='\\r')\n",
    "\n",
    "    test_losses.append(test_train_loss.result())"
   ]
  },
  {
   "cell_type": "code",
   "execution_count": null,
   "metadata": {},
   "outputs": [],
   "source": [
    "# embedded movie dataframe 만들기\n",
    "embedded_movie = movies_genres_df['MovieID'].apply(test_model.get_layer('movie_embedding'))\n",
    "columns = [x for x in range(100)]\n",
    "embedded_movie_df = pd.DataFrame(columns = columns)\n",
    "for data in embedded_movie:\n",
    "    embedded_movie_df = embedded_movie_df.append(pd.Series(data), ignore_index=True)\n",
    "embedded_movie_df.head()\n",
    "\n",
    "# PCA를 이용한 차원 축소\n",
    "from sklearn.preprocessing import StandardScaler\n",
    "from sklearn.decomposition import PCA\n",
    "\n",
    "movie_scaled = StandardScaler().fit_transform(embedded_movie_df)\n",
    "pca = PCA(n_components=2)\n",
    "pca.fit(movie_scaled)\n",
    "movie_pca = pca.transform(movie_scaled)\n",
    "pca_columns=[f'{n}' for n in range(2)]\n",
    "movie_df_pca = pd.DataFrame(movie_pca,columns=pca_columns)\n",
    "movie_df_pca = pd.concat([movie_df_pca, movies_df[\"Title\"]], axis=1)\n",
    "movie_df_pca = pd.concat([movie_df_pca, movies_df[\"Genres\"]], axis=1)\n",
    "movie_df_pca.head()\n",
    "\n",
    "# 시각화\n",
    "fig = px.scatter(movie_df_pca, x='0', y='1', color='Genres')\n",
    "fig.show()"
   ]
  },
  {
   "cell_type": "code",
   "execution_count": null,
   "metadata": {},
   "outputs": [],
   "source": [
    "# T-SNE를 이용한 차원 축소\n",
    "import matplotlib.pyplot as plt\n",
    "from sklearn.manifold import TSNE\n",
    "\n",
    "tsne = TSNE(n_components=2).fit_transform(embedded_movie_df)\n",
    "tsne_df = pd.DataFrame({'x': tsne[:, 0], 'y':tsne[:, 1]})\n",
    "tsne_df = pd.concat([tsne_df, movies_df[\"Title\"]], axis=1)\n",
    "tsne_df = pd.concat([tsne_df, movies_df[\"Genres\"]], axis=1)\n",
    "tsne_df.head()\n",
    "\n",
    "# 시각화\n",
    "fig = px.scatter(tsne_df, x='x', y='y', color='Genres')\n",
    "fig.show()"
   ]
  },
  {
   "cell_type": "code",
   "execution_count": null,
   "metadata": {},
   "outputs": [],
   "source": [
    "# embedded user dataframe 만들기\n",
    "embedded_user = users_df['UserID'].apply(np.int32).apply(test_model.get_layer('user_embedding'))\n",
    "columns = [x for x in range(100)]\n",
    "embedded_user_df = pd.DataFrame(columns = columns)\n",
    "for data in embedded_user:\n",
    "    embedded_user_df = embedded_user_df.append(pd.Series(data.numpy()), ignore_index=True)\n",
    "embedded_user_df.head()"
   ]
  },
  {
   "cell_type": "code",
   "execution_count": null,
   "metadata": {},
   "outputs": [],
   "source": [
    "# T-SNE를 이용한 차원 축소\n",
    "import matplotlib.pyplot as plt\n",
    "from sklearn.manifold import TSNE\n",
    "\n",
    "tsne = TSNE(n_components=2).fit_transform(embedded_user_df)\n",
    "tsne_df = pd.DataFrame({'x': tsne[:, 0], 'y':tsne[:, 1]})\n",
    "tsne_df = pd.concat([tsne_df, users_df[\"Gender\"]], axis=1)\n",
    "tsne_df = pd.concat([tsne_df, users_df[\"Age\"]], axis=1)\n",
    "tsne_df = pd.concat([tsne_df, users_df[\"Zip-code\"]], axis=1)\n",
    "tsne_df.head()"
   ]
  },
  {
   "cell_type": "code",
   "execution_count": null,
   "metadata": {},
   "outputs": [],
   "source": [
    "# 시각화\n",
    "fig = px.scatter(tsne_df, x='x', y='y', color='Age', hover_data=tsne_df)\n",
    "fig.show()"
   ]
  },
  {
   "cell_type": "code",
   "execution_count": null,
   "metadata": {},
   "outputs": [],
   "source": [
    "test_model.save_weights('./save_weights/user_movie_at_once.h5')"
   ]
  },
  {
   "cell_type": "code",
   "execution_count": null,
   "metadata": {},
   "outputs": [],
   "source": []
  }
 ],
 "metadata": {
  "colab": {
   "collapsed_sections": [],
   "include_colab_link": true,
   "machine_shape": "hm",
   "name": "RL_ActorCritic_DDPG_Movie_Recommendation.ipynb",
   "provenance": []
  },
  "kernelspec": {
   "display_name": "Python 3",
   "language": "python",
   "name": "python3"
  },
  "language_info": {
   "codemirror_mode": {
    "name": "ipython",
    "version": 3
   },
   "file_extension": ".py",
   "mimetype": "text/x-python",
   "name": "python",
   "nbconvert_exporter": "python",
   "pygments_lexer": "ipython3",
   "version": "3.8.8"
  }
 },
 "nbformat": 4,
 "nbformat_minor": 4
}
